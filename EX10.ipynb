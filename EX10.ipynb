{
 "cells": [
  {
   "cell_type": "code",
   "execution_count": 23,
   "id": "42769a86-c053-4e22-90a1-adede52e3c06",
   "metadata": {},
   "outputs": [
    {
     "name": "stdin",
     "output_type": "stream",
     "text": [
      "Enter the distance traveled in kilometers:  7\n"
     ]
    },
    {
     "name": "stdout",
     "output_type": "stream",
     "text": [
      "The total taxi fare for {distance_km} km is:  16.5\n"
     ]
    }
   ],
   "source": [
    "base_fare = 4.00\n",
    "plus_fare = 0.25\n",
    "meters = 140\n",
    "km = meters / 1000  \n",
    "\n",
    "def taxi(dist_km):\n",
    "    distance_m = dist_km * 1000\n",
    "    variable_fare_units = distance_m / 140 \n",
    "    variable_fare = plus_fare * variable_fare_units\n",
    "    total_fare = base_fare + variable_fare\n",
    "    return total_fare\n",
    "def main():\n",
    "    distance_km = float(input(\"Enter the distance traveled in kilometers: \"))\n",
    "    total_fare = taxi(distance_km)\n",
    "    print(\"The total taxi fare for {distance_km} km is: \",total_fare)\n",
    "    \n",
    "if __name__ == \"__main__\":\n",
    "    main()\n",
    "    \n",
    "\n",
    "    "
   ]
  },
  {
   "cell_type": "code",
   "execution_count": null,
   "id": "44bd792c-8b12-4028-8f7c-e6fdb0ccc770",
   "metadata": {},
   "outputs": [],
   "source": []
  },
  {
   "cell_type": "code",
   "execution_count": null,
   "id": "ee300eb7-6f7f-4ca8-9fd5-e3914626a3c0",
   "metadata": {},
   "outputs": [],
   "source": []
  }
 ],
 "metadata": {
  "kernelspec": {
   "display_name": "Python 3 (ipykernel)",
   "language": "python",
   "name": "python3"
  },
  "language_info": {
   "codemirror_mode": {
    "name": "ipython",
    "version": 3
   },
   "file_extension": ".py",
   "mimetype": "text/x-python",
   "name": "python",
   "nbconvert_exporter": "python",
   "pygments_lexer": "ipython3",
   "version": "3.12.4"
  }
 },
 "nbformat": 4,
 "nbformat_minor": 5
}
