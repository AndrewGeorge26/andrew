{
 "cells": [
  {
   "cell_type": "code",
   "execution_count": 7,
   "id": "db87397c-acd3-4540-923d-bd6aee6918ce",
   "metadata": {},
   "outputs": [
    {
     "name": "stdout",
     "output_type": "stream",
     "text": [
      "Student Name: John\n",
      "Student Age: 20\n",
      "Number of Courses: 5\n",
      "Student Name: Mai\n",
      "Student Age: 19\n",
      "Number of Courses: 6\n",
      "Student Name: Ali\n",
      "Student Age: 17\n",
      "Number of Courses: 5\n",
      "Total number of students: 3\n"
     ]
    }
   ],
   "source": [
    "class student:\n",
    "    student_count = 0  \n",
    "    \n",
    "    def __init__(self, name, age, num_courses):\n",
    "        self.name = name\n",
    "        self.age = age\n",
    "        self.num_courses = num_courses\n",
    "        \n",
    "     \n",
    "        student.student_count += 1\n",
    "\n",
    "    def myfunc(self):\n",
    "        print(f\"Student Name: {self.name}\")\n",
    "        print(f\"Student Age: {self.age}\")\n",
    "        print(f\"Number of Courses: {self.num_courses}\")\n",
    "\n",
    "\n",
    "s1 = student(\"John\", 20, 5)\n",
    "s1.myfunc()  \n",
    "\n",
    "s2 = student(\"Mai\", 19, 6)\n",
    "s2.myfunc() \n",
    "\n",
    "s3 = student(\"Ali\", 17, 5)\n",
    "s3.myfunc()  \n",
    "\n",
    "\n",
    "print(f\"Total number of students: {student.student_count}\")\n"
   ]
  },
  {
   "cell_type": "code",
   "execution_count": null,
   "id": "2871e26d-0d73-43f1-9e02-db678f2fbf37",
   "metadata": {},
   "outputs": [],
   "source": []
  }
 ],
 "metadata": {
  "kernelspec": {
   "display_name": "Python 3 (ipykernel)",
   "language": "python",
   "name": "python3"
  },
  "language_info": {
   "codemirror_mode": {
    "name": "ipython",
    "version": 3
   },
   "file_extension": ".py",
   "mimetype": "text/x-python",
   "name": "python",
   "nbconvert_exporter": "python",
   "pygments_lexer": "ipython3",
   "version": "3.12.4"
  }
 },
 "nbformat": 4,
 "nbformat_minor": 5
}
