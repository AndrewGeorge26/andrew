{
 "cells": [
  {
   "cell_type": "code",
   "execution_count": 19,
   "id": "2efca917-b0ef-465e-9158-28d3d781c542",
   "metadata": {},
   "outputs": [
    {
     "name": "stdout",
     "output_type": "stream",
     "text": [
      "Employees in Engineering:\n",
      "Ali (ID: 8848) - Salary: $5000.00\n",
      "john (ID: 8850) - Salary: $6000.00\n",
      "Employees in Engineering:\n",
      "Ali (ID: 8848) - Salary: $10000.00\n",
      "john (ID: 8850) - Salary: $6000.00\n"
     ]
    }
   ],
   "source": [
    "class Employee:\n",
    "    def __init__(self, name, emp_id, salary):\n",
    "        self.name = name\n",
    "        self.emp_id = emp_id\n",
    "        self.salary = salary\n",
    "\n",
    "    def give_raise(self, amount):\n",
    "        self.salary += amount\n",
    "\n",
    "    def __str__(self):\n",
    "        return f\"{self.name} (ID: {self.emp_id}) - Salary: ${self.salary:.2f}\"\n",
    "\n",
    "class Department:\n",
    "    def __init__(self, department_name):\n",
    "        self.department_name = department_name\n",
    "        self.employees = []\n",
    "\n",
    "    def add_employee(self, employee):\n",
    "        self.employees.append(employee)\n",
    "\n",
    "    def list_employees(self):\n",
    "        print(f\"Employees in {self.department_name}:\")\n",
    "        for emp in self.employees:\n",
    "            print(emp)\n",
    "\n",
    "\n",
    "emp1 = Employee(\"Ali\", \"8848\", 5000)\n",
    "emp2 = Employee(\"john\", \"8850\", 6000)\n",
    "\n",
    "dept = Department(\"Engineering\")\n",
    "\n",
    "\n",
    "dept.add_employee(emp1)\n",
    "dept.add_employee(emp2)\n",
    "\n",
    "\n",
    "dept.list_employees()\n",
    "\n",
    "emp1.give_raise(5000)\n",
    "emp2.give_raise\n",
    "dept.list_employees()\n"
   ]
  },
  {
   "cell_type": "code",
   "execution_count": null,
   "id": "7999addf-609c-4743-bf7d-8dbf280a54db",
   "metadata": {},
   "outputs": [],
   "source": []
  }
 ],
 "metadata": {
  "kernelspec": {
   "display_name": "Python 3 (ipykernel)",
   "language": "python",
   "name": "python3"
  },
  "language_info": {
   "codemirror_mode": {
    "name": "ipython",
    "version": 3
   },
   "file_extension": ".py",
   "mimetype": "text/x-python",
   "name": "python",
   "nbconvert_exporter": "python",
   "pygments_lexer": "ipython3",
   "version": "3.12.4"
  }
 },
 "nbformat": 4,
 "nbformat_minor": 5
}
