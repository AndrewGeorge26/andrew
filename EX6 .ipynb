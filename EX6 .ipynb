{
 "cells": [
  {
   "cell_type": "code",
   "execution_count": 3,
   "id": "9485278e-5dff-429a-a806-54434e049830",
   "metadata": {},
   "outputs": [
    {
     "name": "stdout",
     "output_type": "stream",
     "text": [
      "Middle skill: Node\n"
     ]
    }
   ],
   "source": [
    "#EX6\n",
    "person = {\n",
    "    'first_name': 'Asabeneh',\n",
    "    'secomd_name':'yetayeh',\n",
    "    'age':25,\n",
    "    'country':'finland',\n",
    "    'is_marred': True,\n",
    "    'skills': ['JavaScript', 'React', 'Node', 'MongoDB', 'Python'],\n",
    "    'address':{\n",
    "        'street':'space street',\n",
    "        'zipcode':'02210'\n",
    "    }}\n",
    "#check if the dic has skills key if yes print the middle \n",
    "if 'skills'in person:\n",
    "    skills = person['skills']\n",
    "    middle_skill = len(skills) // 2\n",
    "    print(\"Middle skill:\", skills[middle_skill])"
   ]
  },
  {
   "cell_type": "code",
   "execution_count": 11,
   "id": "d7e64819-46cd-49ef-a180-eda8fae295a1",
   "metadata": {},
   "outputs": [
    {
     "name": "stdout",
     "output_type": "stream",
     "text": [
      "Middle skill: Node\n",
      "Python skill: True\n"
     ]
    }
   ],
   "source": [
    "#EX6\n",
    "person = {\n",
    "    'first_name': 'Asabeneh',\n",
    "    'secomd_name':'yetayeh',\n",
    "    'age':25,\n",
    "    'country':'finland',\n",
    "    'is_marred': True,\n",
    "    'skills': ['JavaScript', 'React', 'Node', 'MongoDB', 'Python'],\n",
    "    'address':{\n",
    "        'street':'space street',\n",
    "        'zipcode':'02210'\n",
    "    }}\n",
    "#check if the dic has skills key if yes print the middle \n",
    "if 'skills'in person:\n",
    "    skills = person['skills']\n",
    "    middle_skill = len(skills) // 2\n",
    "    print(\"Middle skill:\", skills[middle_skill])\n",
    "    \n",
    "    #check if the person has python skill\n",
    "    python = 'Python' in skills\n",
    "    print(\"Python skill:\", python)\n",
    "    \n",
    "    \n",
    " "
   ]
  },
  {
   "cell_type": "code",
   "execution_count": 28,
   "id": "d05317a5-3764-445e-aa13-e109205bb079",
   "metadata": {},
   "outputs": [
    {
     "name": "stdout",
     "output_type": "stream",
     "text": [
      "Middle skill: Node\n",
      "Python skill: True\n",
      "He is a fullstack developer\n"
     ]
    }
   ],
   "source": [
    "#EX6\n",
    "person = {\n",
    "    'first_name': 'Asabeneh',\n",
    "    'secomd_name':'yetayeh',\n",
    "    'age':25,\n",
    "    'country':'finland',\n",
    "    'is_marred': True,\n",
    "    'skills': ['JavaScript', 'React', 'Node', 'MongoDB', 'Python'],\n",
    "    'address':{\n",
    "        'street':'space street',\n",
    "        'zipcode':'02210'\n",
    "    }}\n",
    "#check if the dic has skills key if yes print the middle \n",
    "if 'skills'in person:\n",
    "    skills = person['skills']\n",
    "    middle_skill = len(skills) // 2\n",
    "    print(\"Middle skill:\", skills[middle_skill])\n",
    "    \n",
    "    #check if the person has python skill\n",
    "    python = 'Python' in skills\n",
    "    print(\"Python skill:\", python)\n",
    "    \n",
    "#test if he frontend, backend or fullstack developer \n",
    "    if  set(skills) == {'JavaScript', 'React'}:\n",
    "        print('He is a front end developer')\n",
    "    elif set(skills) == {'Node', 'Python', 'MongoDB'}:\n",
    "        print('He is a backend developer')\n",
    "    else:\n",
    "        print('He is a fullstack developer')\n",
    "        "
   ]
  },
  {
   "cell_type": "code",
   "execution_count": 67,
   "id": "37942b6e-b9e9-4a8a-9e7a-b1660f812410",
   "metadata": {},
   "outputs": [
    {
     "name": "stdout",
     "output_type": "stream",
     "text": [
      "Middle skill: Node\n",
      "Python skill: True\n",
      "He is a fullstack developer\n",
      "Lives in Finland\n",
      "He is married\n"
     ]
    }
   ],
   "source": [
    "#EX6\n",
    "person = {\n",
    "    'first_name': 'Asabeneh',\n",
    "    'secomd_name':'yetayeh',\n",
    "    'age':25,\n",
    "    'country':'finland',\n",
    "    'is_marred': True ,\n",
    "    'skills': ['JavaScript', 'React', 'Node', 'MongoDB', 'Python'],\n",
    "    'address':{\n",
    "        'street':'space street',\n",
    "        'zipcode':'02210'\n",
    "    }}\n",
    "#check if the dic has skills key if yes print the middle \n",
    "if 'skills'in person:\n",
    "    skills = person['skills']\n",
    "    middle_skill = len(skills) // 2\n",
    "    print(\"Middle skill:\", skills[middle_skill])\n",
    "    \n",
    "    #check if the person has python skill\n",
    "    python = 'Python' in skills\n",
    "    print(\"Python skill:\", python)\n",
    "    \n",
    "#test if he frontend, backend or fullstack developer \n",
    "    if  set(skills) == {'JavaScript', 'React'}:\n",
    "        print('He is a front end developer')\n",
    "    elif set(skills) == {'Node', 'Python', 'MongoDB'}:\n",
    "        print('He is a backend developer')\n",
    "    else:\n",
    "        print('He is a fullstack developer')\n",
    "#if marred and live in Finland \n",
    "lives_in_finland = person['country'] == 'finland'\n",
    "is_marred = person['is_marred'] \n",
    "if lives_in_finland:\n",
    "    print(\"Lives in Finland\")\n",
    "else:\n",
    "     print(\"not living in finland\")\n",
    "if is_marred:\n",
    "    print(\"He is married\")\n",
    "else:\n",
    "    print(\"He is not married\")\n"
   ]
  },
  {
   "cell_type": "code",
   "execution_count": null,
   "id": "9a1337fa-7978-4342-959c-7e0d343392b7",
   "metadata": {},
   "outputs": [],
   "source": []
  },
  {
   "cell_type": "code",
   "execution_count": null,
   "id": "91a25cbe-797a-4e76-a57b-c01748efd1d6",
   "metadata": {},
   "outputs": [],
   "source": []
  }
 ],
 "metadata": {
  "kernelspec": {
   "display_name": "Python 3 (ipykernel)",
   "language": "python",
   "name": "python3"
  },
  "language_info": {
   "codemirror_mode": {
    "name": "ipython",
    "version": 3
   },
   "file_extension": ".py",
   "mimetype": "text/x-python",
   "name": "python",
   "nbconvert_exporter": "python",
   "pygments_lexer": "ipython3",
   "version": "3.12.4"
  }
 },
 "nbformat": 4,
 "nbformat_minor": 5
}
