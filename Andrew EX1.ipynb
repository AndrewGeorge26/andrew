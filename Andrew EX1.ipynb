{
 "cells": [
  {
   "cell_type": "code",
   "execution_count": 5,
   "id": "5aaac0aa-fdbc-4d2a-8d22-d772eeb9307f",
   "metadata": {},
   "outputs": [
    {
     "name": "stdout",
     "output_type": "stream",
     "text": [
      "The sum of the numbers in the list is:  15\n"
     ]
    }
   ],
   "source": [
    "#EX:1\n",
    "def add(numbers):\n",
    "    return sum(numbers)\n",
    "my_list = [1, 2, 3, 4, 5]\n",
    "result = add(my_list)\n",
    "print(\"The sum of the numbers in the list is: \",result)"
   ]
  },
  {
   "cell_type": "code",
   "execution_count": null,
   "id": "d101d3bb-c040-4751-8032-4db3475cbd57",
   "metadata": {},
   "outputs": [],
   "source": []
  }
 ],
 "metadata": {
  "kernelspec": {
   "display_name": "Python 3 (ipykernel)",
   "language": "python",
   "name": "python3"
  },
  "language_info": {
   "codemirror_mode": {
    "name": "ipython",
    "version": 3
   },
   "file_extension": ".py",
   "mimetype": "text/x-python",
   "name": "python",
   "nbconvert_exporter": "python",
   "pygments_lexer": "ipython3",
   "version": "3.12.4"
  }
 },
 "nbformat": 4,
 "nbformat_minor": 5
}
