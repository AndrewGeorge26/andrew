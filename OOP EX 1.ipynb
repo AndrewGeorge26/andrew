{
 "cells": [
  {
   "cell_type": "code",
   "execution_count": 12,
   "id": "743eb751-40d3-4f31-b96f-ffbe766443cf",
   "metadata": {},
   "outputs": [
    {
     "data": {
      "text/plain": [
       "<bound method student.myfunc of <__main__.student object at 0x000001EE97C8D8E0>>"
      ]
     },
     "execution_count": 12,
     "metadata": {},
     "output_type": "execute_result"
    }
   ],
   "source": [
    "class student:\n",
    "    def __init__(self, name, age):\n",
    "        self.name = name\n",
    "        self.age = age\n",
    "\n",
    "    def myfunc(self):\n",
    "        print(f\"Student Name: {self.name}\")\n",
    "        print(f\"Student Age: {self.age}\")\n",
    "\n",
    "s1 = student(\"John\", 20)\n",
    "s1.myfunc()  # Add parentheses to call the method\n",
    "\n",
    "s2 = student(\"Mai\", 19)\n",
    "s2.myfunc()  # Add parentheses to call the method\n",
    "\n",
    "s3 = student(\"Ali\", 17)\n",
    "s3.myfunc()  # Add parentheses to call the method\n"
   ]
  },
  {
   "cell_type": "code",
   "execution_count": null,
   "id": "42fe382c-131f-49f7-be09-e34799e4cdab",
   "metadata": {},
   "outputs": [],
   "source": []
  }
 ],
 "metadata": {
  "kernelspec": {
   "display_name": "Python 3 (ipykernel)",
   "language": "python",
   "name": "python3"
  },
  "language_info": {
   "codemirror_mode": {
    "name": "ipython",
    "version": 3
   },
   "file_extension": ".py",
   "mimetype": "text/x-python",
   "name": "python",
   "nbconvert_exporter": "python",
   "pygments_lexer": "ipython3",
   "version": "3.12.4"
  }
 },
 "nbformat": 4,
 "nbformat_minor": 5
}
