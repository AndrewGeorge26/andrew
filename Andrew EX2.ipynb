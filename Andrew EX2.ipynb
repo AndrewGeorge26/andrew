{
 "cells": [
  {
   "cell_type": "code",
   "execution_count": 3,
   "id": "52cc39ff-c781-45d3-9c51-ad2b80054aa3",
   "metadata": {},
   "outputs": [
    {
     "name": "stdout",
     "output_type": "stream",
     "text": [
      "[5, 1, 2]\n"
     ]
    }
   ],
   "source": [
    "my_list = [1,5,4,8,5,2,1,3,9,7,2]\n",
    "single = []\n",
    "double = []\n",
    "for i in my_list:\n",
    "    if i not in single:\n",
    "      single.append(i)\n",
    "    elif i not in double:\n",
    "        double.append(i)\n",
    " \n",
    "print(double)"
   ]
  },
  {
   "cell_type": "code",
   "execution_count": null,
   "id": "441fa3a3-5e7a-4978-8415-ad6cf65d1a05",
   "metadata": {},
   "outputs": [],
   "source": []
  }
 ],
 "metadata": {
  "kernelspec": {
   "display_name": "Python 3 (ipykernel)",
   "language": "python",
   "name": "python3"
  },
  "language_info": {
   "codemirror_mode": {
    "name": "ipython",
    "version": 3
   },
   "file_extension": ".py",
   "mimetype": "text/x-python",
   "name": "python",
   "nbconvert_exporter": "python",
   "pygments_lexer": "ipython3",
   "version": "3.12.4"
  }
 },
 "nbformat": 4,
 "nbformat_minor": 5
}
