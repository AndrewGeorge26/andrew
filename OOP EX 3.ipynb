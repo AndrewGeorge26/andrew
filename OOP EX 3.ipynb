{
 "cells": [
  {
   "cell_type": "code",
   "execution_count": 14,
   "id": "85391853-9ce6-4593-8617-568b8bf16176",
   "metadata": {},
   "outputs": [
    {
     "name": "stdin",
     "output_type": "stream",
     "text": [
      "Enter your username:  john \n",
      "Enter your password:  1234\n"
     ]
    },
    {
     "name": "stdout",
     "output_type": "stream",
     "text": [
      "Please create an account.\n"
     ]
    }
   ],
   "source": [
    "class Safe:\n",
    "    def __init__(self, accounts):\n",
    "        self.accounts = accounts\n",
    "        \n",
    "    def login(self, name, password):\n",
    "        # Strip any leading/trailing whitespace from inputs\n",
    "     \n",
    "\n",
    "        if name not in self.accounts:\n",
    "            print('Please create an account.')\n",
    "        elif self.accounts[name] == password:\n",
    "            print('Logged in.')\n",
    "        else:\n",
    "            print('Wrong password.')\n",
    "\n",
    "accounts = {\n",
    "    'john': '1234',\n",
    "    'mai': 'pass123',\n",
    "    'ali': 'mypassword'\n",
    "}\n",
    "\n",
    "safe = Safe(accounts)\n",
    "\n",
    "username = input(\"Enter your username: \")\n",
    "password = input(\"Enter your password: \")\n",
    "safe.login(username, password)\n",
    "\n"
   ]
  },
  {
   "cell_type": "code",
   "execution_count": null,
   "id": "bd242cb3-a597-49fd-84f7-b8681a089a37",
   "metadata": {},
   "outputs": [],
   "source": []
  }
 ],
 "metadata": {
  "kernelspec": {
   "display_name": "Python 3 (ipykernel)",
   "language": "python",
   "name": "python3"
  },
  "language_info": {
   "codemirror_mode": {
    "name": "ipython",
    "version": 3
   },
   "file_extension": ".py",
   "mimetype": "text/x-python",
   "name": "python",
   "nbconvert_exporter": "python",
   "pygments_lexer": "ipython3",
   "version": "3.12.4"
  }
 },
 "nbformat": 4,
 "nbformat_minor": 5
}
