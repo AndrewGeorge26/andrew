{
 "cells": [
  {
   "cell_type": "code",
   "execution_count": null,
   "id": "f1132815-f5a0-45e8-a3ed-fc8e6bb5c2b5",
   "metadata": {},
   "outputs": [],
   "source": [
    "def mean(numbers):\n",
    "    return sum(numbers)/len(numbers)\n",
    "\n",
    "\n",
    "def median(numbers):\n",
    "    sorted_numbers = sorted(numbers)\n",
    "    n = len(sorted_numbers)\n",
    "    if n == 0:\n",
    "        return None\n",
    "    middle = n // 2  \n",
    "    if n % 2 == 0:  \n",
    "        return (sorted_numbers[middle - 1] + sorted_numbers[middle]) / 2\n",
    "    else:  \n",
    "        return sorted_numbers[middle]\n",
    "        \n",
    "def mode(numbers):\n",
    "    if not numbers:\n",
    "        return None \n",
    "    frequency = Counter(numbers)\n",
    "    max_count = max(frequency.values())\n",
    "    return [num for num, count in frequency.items() if count == max_count]\n",
    "\n",
    "def range(numbers):\n",
    "    if not numbers:\n",
    "        return None  \n",
    "    \n",
    "    \n",
    "    return max(numbers) - min(numbers)\n",
    "    \n",
    "\n",
    "\n",
    "\n",
    "\n"
   ]
  }
 ],
 "metadata": {
  "kernelspec": {
   "display_name": "Python 3 (ipykernel)",
   "language": "python",
   "name": "python3"
  },
  "language_info": {
   "codemirror_mode": {
    "name": "ipython",
    "version": 3
   },
   "file_extension": ".py",
   "mimetype": "text/x-python",
   "name": "python",
   "nbconvert_exporter": "python",
   "pygments_lexer": "ipython3",
   "version": "3.12.4"
  }
 },
 "nbformat": 4,
 "nbformat_minor": 5
}
